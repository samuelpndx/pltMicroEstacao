{
 "cells": [
  {
   "cell_type": "code",
   "execution_count": 1,
   "metadata": {},
   "outputs": [],
   "source": [
    "import pandas as pd\n",
    "import matplotlib.pyplot as plt\n",
    "import numpy as np\n",
    "import seaborn as sns"
   ]
  },
  {
   "cell_type": "code",
   "execution_count": 2,
   "metadata": {},
   "outputs": [],
   "source": [
    "#Carregar o arquivo .sav\n",
    "df = pd.read_csv ('14042019.csv', header=None)"
   ]
  },
  {
   "cell_type": "code",
   "execution_count": 3,
   "metadata": {
    "scrolled": true
   },
   "outputs": [
    {
     "data": {
      "text/html": [
       "<div>\n",
       "<style scoped>\n",
       "    .dataframe tbody tr th:only-of-type {\n",
       "        vertical-align: middle;\n",
       "    }\n",
       "\n",
       "    .dataframe tbody tr th {\n",
       "        vertical-align: top;\n",
       "    }\n",
       "\n",
       "    .dataframe thead th {\n",
       "        text-align: right;\n",
       "    }\n",
       "</style>\n",
       "<table border=\"1\" class=\"dataframe\">\n",
       "  <thead>\n",
       "    <tr style=\"text-align: right;\">\n",
       "      <th></th>\n",
       "      <th>0</th>\n",
       "      <th>1</th>\n",
       "      <th>2</th>\n",
       "      <th>3</th>\n",
       "      <th>4</th>\n",
       "      <th>5</th>\n",
       "      <th>6</th>\n",
       "      <th>7</th>\n",
       "      <th>8</th>\n",
       "      <th>9</th>\n",
       "    </tr>\n",
       "  </thead>\n",
       "  <tbody>\n",
       "    <tr>\n",
       "      <th>0</th>\n",
       "      <td>14/04/2019</td>\n",
       "      <td>0:0:0</td>\n",
       "      <td>74.06</td>\n",
       "      <td>28.59</td>\n",
       "      <td>1120.53</td>\n",
       "      <td>1010.34</td>\n",
       "      <td>100.0</td>\n",
       "      <td>0</td>\n",
       "      <td>8.0</td>\n",
       "      <td>0.04</td>\n",
       "    </tr>\n",
       "    <tr>\n",
       "      <th>1</th>\n",
       "      <td>14/04/2019</td>\n",
       "      <td>0:0:1</td>\n",
       "      <td>73.75</td>\n",
       "      <td>28.59</td>\n",
       "      <td>1119.78</td>\n",
       "      <td>1010.32</td>\n",
       "      <td>100.0</td>\n",
       "      <td>0</td>\n",
       "      <td>8.0</td>\n",
       "      <td>0.04</td>\n",
       "    </tr>\n",
       "    <tr>\n",
       "      <th>2</th>\n",
       "      <td>14/04/2019</td>\n",
       "      <td>0:0:2</td>\n",
       "      <td>73.50</td>\n",
       "      <td>28.59</td>\n",
       "      <td>1119.14</td>\n",
       "      <td>1010.32</td>\n",
       "      <td>100.0</td>\n",
       "      <td>0</td>\n",
       "      <td>7.0</td>\n",
       "      <td>0.03</td>\n",
       "    </tr>\n",
       "    <tr>\n",
       "      <th>3</th>\n",
       "      <td>14/04/2019</td>\n",
       "      <td>0:0:3</td>\n",
       "      <td>69.38</td>\n",
       "      <td>28.59</td>\n",
       "      <td>1109.37</td>\n",
       "      <td>1010.32</td>\n",
       "      <td>100.0</td>\n",
       "      <td>0</td>\n",
       "      <td>8.0</td>\n",
       "      <td>0.04</td>\n",
       "    </tr>\n",
       "    <tr>\n",
       "      <th>4</th>\n",
       "      <td>14/04/2019</td>\n",
       "      <td>0:0:4</td>\n",
       "      <td>68.31</td>\n",
       "      <td>28.59</td>\n",
       "      <td>1106.82</td>\n",
       "      <td>1010.36</td>\n",
       "      <td>100.0</td>\n",
       "      <td>0</td>\n",
       "      <td>7.0</td>\n",
       "      <td>0.03</td>\n",
       "    </tr>\n",
       "  </tbody>\n",
       "</table>\n",
       "</div>"
      ],
      "text/plain": [
       "            0      1      2      3        4        5      6  7    8     9\n",
       "0  14/04/2019  0:0:0  74.06  28.59  1120.53  1010.34  100.0  0  8.0  0.04\n",
       "1  14/04/2019  0:0:1  73.75  28.59  1119.78  1010.32  100.0  0  8.0  0.04\n",
       "2  14/04/2019  0:0:2  73.50  28.59  1119.14  1010.32  100.0  0  7.0  0.03\n",
       "3  14/04/2019  0:0:3  69.38  28.59  1109.37  1010.32  100.0  0  8.0  0.04\n",
       "4  14/04/2019  0:0:4  68.31  28.59  1106.82  1010.36  100.0  0  7.0  0.03"
      ]
     },
     "execution_count": 3,
     "metadata": {},
     "output_type": "execute_result"
    }
   ],
   "source": [
    "df.head()"
   ]
  },
  {
   "cell_type": "code",
   "execution_count": 4,
   "metadata": {},
   "outputs": [],
   "source": [
    "df['dateTime'] = df[0] + ' ' +df[1]\n"
   ]
  },
  {
   "cell_type": "code",
   "execution_count": 5,
   "metadata": {},
   "outputs": [
    {
     "data": {
      "text/html": [
       "<div>\n",
       "<style scoped>\n",
       "    .dataframe tbody tr th:only-of-type {\n",
       "        vertical-align: middle;\n",
       "    }\n",
       "\n",
       "    .dataframe tbody tr th {\n",
       "        vertical-align: top;\n",
       "    }\n",
       "\n",
       "    .dataframe thead th {\n",
       "        text-align: right;\n",
       "    }\n",
       "</style>\n",
       "<table border=\"1\" class=\"dataframe\">\n",
       "  <thead>\n",
       "    <tr style=\"text-align: right;\">\n",
       "      <th></th>\n",
       "      <th>0</th>\n",
       "      <th>1</th>\n",
       "      <th>2</th>\n",
       "      <th>3</th>\n",
       "      <th>4</th>\n",
       "      <th>5</th>\n",
       "      <th>6</th>\n",
       "      <th>7</th>\n",
       "      <th>8</th>\n",
       "      <th>9</th>\n",
       "      <th>dateTime</th>\n",
       "    </tr>\n",
       "  </thead>\n",
       "  <tbody>\n",
       "    <tr>\n",
       "      <th>0</th>\n",
       "      <td>14/04/2019</td>\n",
       "      <td>0:0:0</td>\n",
       "      <td>74.06</td>\n",
       "      <td>28.59</td>\n",
       "      <td>1120.53</td>\n",
       "      <td>1010.34</td>\n",
       "      <td>100.0</td>\n",
       "      <td>0</td>\n",
       "      <td>8.0</td>\n",
       "      <td>0.04</td>\n",
       "      <td>14/04/2019 0:0:0</td>\n",
       "    </tr>\n",
       "    <tr>\n",
       "      <th>1</th>\n",
       "      <td>14/04/2019</td>\n",
       "      <td>0:0:1</td>\n",
       "      <td>73.75</td>\n",
       "      <td>28.59</td>\n",
       "      <td>1119.78</td>\n",
       "      <td>1010.32</td>\n",
       "      <td>100.0</td>\n",
       "      <td>0</td>\n",
       "      <td>8.0</td>\n",
       "      <td>0.04</td>\n",
       "      <td>14/04/2019 0:0:1</td>\n",
       "    </tr>\n",
       "    <tr>\n",
       "      <th>2</th>\n",
       "      <td>14/04/2019</td>\n",
       "      <td>0:0:2</td>\n",
       "      <td>73.50</td>\n",
       "      <td>28.59</td>\n",
       "      <td>1119.14</td>\n",
       "      <td>1010.32</td>\n",
       "      <td>100.0</td>\n",
       "      <td>0</td>\n",
       "      <td>7.0</td>\n",
       "      <td>0.03</td>\n",
       "      <td>14/04/2019 0:0:2</td>\n",
       "    </tr>\n",
       "    <tr>\n",
       "      <th>3</th>\n",
       "      <td>14/04/2019</td>\n",
       "      <td>0:0:3</td>\n",
       "      <td>69.38</td>\n",
       "      <td>28.59</td>\n",
       "      <td>1109.37</td>\n",
       "      <td>1010.32</td>\n",
       "      <td>100.0</td>\n",
       "      <td>0</td>\n",
       "      <td>8.0</td>\n",
       "      <td>0.04</td>\n",
       "      <td>14/04/2019 0:0:3</td>\n",
       "    </tr>\n",
       "    <tr>\n",
       "      <th>4</th>\n",
       "      <td>14/04/2019</td>\n",
       "      <td>0:0:4</td>\n",
       "      <td>68.31</td>\n",
       "      <td>28.59</td>\n",
       "      <td>1106.82</td>\n",
       "      <td>1010.36</td>\n",
       "      <td>100.0</td>\n",
       "      <td>0</td>\n",
       "      <td>7.0</td>\n",
       "      <td>0.03</td>\n",
       "      <td>14/04/2019 0:0:4</td>\n",
       "    </tr>\n",
       "  </tbody>\n",
       "</table>\n",
       "</div>"
      ],
      "text/plain": [
       "            0      1      2      3        4        5      6  7    8     9  \\\n",
       "0  14/04/2019  0:0:0  74.06  28.59  1120.53  1010.34  100.0  0  8.0  0.04   \n",
       "1  14/04/2019  0:0:1  73.75  28.59  1119.78  1010.32  100.0  0  8.0  0.04   \n",
       "2  14/04/2019  0:0:2  73.50  28.59  1119.14  1010.32  100.0  0  7.0  0.03   \n",
       "3  14/04/2019  0:0:3  69.38  28.59  1109.37  1010.32  100.0  0  8.0  0.04   \n",
       "4  14/04/2019  0:0:4  68.31  28.59  1106.82  1010.36  100.0  0  7.0  0.03   \n",
       "\n",
       "           dateTime  \n",
       "0  14/04/2019 0:0:0  \n",
       "1  14/04/2019 0:0:1  \n",
       "2  14/04/2019 0:0:2  \n",
       "3  14/04/2019 0:0:3  \n",
       "4  14/04/2019 0:0:4  "
      ]
     },
     "execution_count": 5,
     "metadata": {},
     "output_type": "execute_result"
    }
   ],
   "source": [
    "df.head()"
   ]
  },
  {
   "cell_type": "code",
   "execution_count": 6,
   "metadata": {},
   "outputs": [],
   "source": [
    "df['dateTime'] = pd.to_datetime(df['dateTime'], format='%d/%m/%Y %H:%M:%S')\n"
   ]
  },
  {
   "cell_type": "code",
   "execution_count": 7,
   "metadata": {},
   "outputs": [],
   "source": [
    "#Carregar o arquivo .sav\n",
    "df.set_index('dateTime', inplace=True)"
   ]
  },
  {
   "cell_type": "code",
   "execution_count": 8,
   "metadata": {},
   "outputs": [
    {
     "name": "stdout",
     "output_type": "stream",
     "text": [
      "Using matplotlib backend: Qt5Agg\n"
     ]
    },
    {
     "data": {
      "text/plain": [
       "[Text(0, 0.5, ' '), Text(0.5, 0, ' '), Text(0.5, 1.0, ' ')]"
      ]
     },
     "execution_count": 8,
     "metadata": {},
     "output_type": "execute_result"
    }
   ],
   "source": [
    "%matplotlib\n",
    "sns.boxplot(df.index.hour, df[7]).set( xlabel=' ', \n",
    "    ylabel=' ', title=' ')"
   ]
  }
 ],
 "metadata": {
  "kernelspec": {
   "display_name": "Python 3",
   "language": "python",
   "name": "python3"
  },
  "language_info": {
   "codemirror_mode": {
    "name": "ipython",
    "version": 3
   },
   "file_extension": ".py",
   "mimetype": "text/x-python",
   "name": "python",
   "nbconvert_exporter": "python",
   "pygments_lexer": "ipython3",
   "version": "3.7.1"
  }
 },
 "nbformat": 4,
 "nbformat_minor": 2
}
